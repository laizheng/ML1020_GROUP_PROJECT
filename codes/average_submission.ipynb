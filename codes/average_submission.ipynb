{
 "cells": [
  {
   "cell_type": "code",
   "execution_count": 23,
   "metadata": {},
   "outputs": [],
   "source": [
    "import pandas as pd\n",
    "import numpy as np\n",
    "import glob"
   ]
  },
  {
   "cell_type": "markdown",
   "metadata": {},
   "source": [
    "# Resnet50 + InceptionV3, all ensemble applied"
   ]
  },
  {
   "cell_type": "code",
   "execution_count": 206,
   "metadata": {},
   "outputs": [
    {
     "name": "stdout",
     "output_type": "stream",
     "text": [
      "2\n"
     ]
    }
   ],
   "source": [
    "sub_files = [\"../submissions/InceptionV3/ensemble_5folds_and_fulldata_augTrue_rawpixelknn.csv\",\n",
    "             \"../submissions/Resnet50/ensemble_5folds_and_fulldata_augTrue_rawpixelknn.csv\"]\n",
    "subs = []\n",
    "for f in sub_files:\n",
    "    sub = pd.read_csv(f)\n",
    "    sub = sub.sort_values(\"img\")\n",
    "    subs.append(sub)\n",
    "columns=['c0','c1','c2','c3','c4','c5','c6','c7','c8','c9']\n",
    "df = subs[0][\"img\"].to_frame()\n",
    "for col in columns:\n",
    "    df[col] = 0\n",
    "\n",
    "for sub in subs:\n",
    "    for col in columns:\n",
    "        df[col] += sub[col]\n",
    "\n",
    "for col in columns:\n",
    "    df[col] /= len(subs)\n",
    "\n",
    "print(len(subs))"
   ]
  },
  {
   "cell_type": "code",
   "execution_count": 207,
   "metadata": {},
   "outputs": [],
   "source": [
    "df.to_csv(\"../submissions/final.csv\",index=False)"
   ]
  },
  {
   "cell_type": "code",
   "execution_count": 205,
   "metadata": {},
   "outputs": [
    {
     "data": {
      "text/html": [
       "<div>\n",
       "<style scoped>\n",
       "    .dataframe tbody tr th:only-of-type {\n",
       "        vertical-align: middle;\n",
       "    }\n",
       "\n",
       "    .dataframe tbody tr th {\n",
       "        vertical-align: top;\n",
       "    }\n",
       "\n",
       "    .dataframe thead th {\n",
       "        text-align: right;\n",
       "    }\n",
       "</style>\n",
       "<table border=\"1\" class=\"dataframe\">\n",
       "  <thead>\n",
       "    <tr style=\"text-align: right;\">\n",
       "      <th></th>\n",
       "      <th>img</th>\n",
       "      <th>c0</th>\n",
       "      <th>c1</th>\n",
       "      <th>c2</th>\n",
       "      <th>c3</th>\n",
       "      <th>c4</th>\n",
       "      <th>c5</th>\n",
       "      <th>c6</th>\n",
       "      <th>c7</th>\n",
       "      <th>c8</th>\n",
       "      <th>c9</th>\n",
       "    </tr>\n",
       "  </thead>\n",
       "  <tbody>\n",
       "    <tr>\n",
       "      <th>0</th>\n",
       "      <td>img_1.jpg</td>\n",
       "      <td>0.007929</td>\n",
       "      <td>0.134133</td>\n",
       "      <td>0.026688</td>\n",
       "      <td>0.246147</td>\n",
       "      <td>0.005013</td>\n",
       "      <td>0.531816</td>\n",
       "      <td>0.002247</td>\n",
       "      <td>0.003463</td>\n",
       "      <td>0.008824</td>\n",
       "      <td>0.033741</td>\n",
       "    </tr>\n",
       "    <tr>\n",
       "      <th>1</th>\n",
       "      <td>img_10.jpg</td>\n",
       "      <td>0.001145</td>\n",
       "      <td>0.000052</td>\n",
       "      <td>0.000072</td>\n",
       "      <td>0.000159</td>\n",
       "      <td>0.000287</td>\n",
       "      <td>0.997114</td>\n",
       "      <td>0.000090</td>\n",
       "      <td>0.000141</td>\n",
       "      <td>0.000619</td>\n",
       "      <td>0.000321</td>\n",
       "    </tr>\n",
       "    <tr>\n",
       "      <th>2</th>\n",
       "      <td>img_100.jpg</td>\n",
       "      <td>0.736270</td>\n",
       "      <td>0.024554</td>\n",
       "      <td>0.003106</td>\n",
       "      <td>0.018539</td>\n",
       "      <td>0.005143</td>\n",
       "      <td>0.016890</td>\n",
       "      <td>0.003115</td>\n",
       "      <td>0.005461</td>\n",
       "      <td>0.153587</td>\n",
       "      <td>0.033335</td>\n",
       "    </tr>\n",
       "    <tr>\n",
       "      <th>3</th>\n",
       "      <td>img_1000.jpg</td>\n",
       "      <td>0.102517</td>\n",
       "      <td>0.002581</td>\n",
       "      <td>0.062147</td>\n",
       "      <td>0.195494</td>\n",
       "      <td>0.030026</td>\n",
       "      <td>0.038543</td>\n",
       "      <td>0.002426</td>\n",
       "      <td>0.002381</td>\n",
       "      <td>0.546220</td>\n",
       "      <td>0.017667</td>\n",
       "    </tr>\n",
       "    <tr>\n",
       "      <th>4</th>\n",
       "      <td>img_100000.jpg</td>\n",
       "      <td>0.007932</td>\n",
       "      <td>0.001433</td>\n",
       "      <td>0.000352</td>\n",
       "      <td>0.962246</td>\n",
       "      <td>0.008994</td>\n",
       "      <td>0.008450</td>\n",
       "      <td>0.001641</td>\n",
       "      <td>0.000513</td>\n",
       "      <td>0.007450</td>\n",
       "      <td>0.000989</td>\n",
       "    </tr>\n",
       "  </tbody>\n",
       "</table>\n",
       "</div>"
      ],
      "text/plain": [
       "              img        c0        c1        c2        c3        c4        c5  \\\n",
       "0       img_1.jpg  0.007929  0.134133  0.026688  0.246147  0.005013  0.531816   \n",
       "1      img_10.jpg  0.001145  0.000052  0.000072  0.000159  0.000287  0.997114   \n",
       "2     img_100.jpg  0.736270  0.024554  0.003106  0.018539  0.005143  0.016890   \n",
       "3    img_1000.jpg  0.102517  0.002581  0.062147  0.195494  0.030026  0.038543   \n",
       "4  img_100000.jpg  0.007932  0.001433  0.000352  0.962246  0.008994  0.008450   \n",
       "\n",
       "         c6        c7        c8        c9  \n",
       "0  0.002247  0.003463  0.008824  0.033741  \n",
       "1  0.000090  0.000141  0.000619  0.000321  \n",
       "2  0.003115  0.005461  0.153587  0.033335  \n",
       "3  0.002426  0.002381  0.546220  0.017667  \n",
       "4  0.001641  0.000513  0.007450  0.000989  "
      ]
     },
     "execution_count": 205,
     "metadata": {},
     "output_type": "execute_result"
    }
   ],
   "source": [
    "df.head()"
   ]
  },
  {
   "cell_type": "code",
   "execution_count": null,
   "metadata": {},
   "outputs": [],
   "source": []
  }
 ],
 "metadata": {
  "kernelspec": {
   "display_name": "Python 3",
   "language": "python",
   "name": "python3"
  },
  "language_info": {
   "codemirror_mode": {
    "name": "ipython",
    "version": 3
   },
   "file_extension": ".py",
   "mimetype": "text/x-python",
   "name": "python",
   "nbconvert_exporter": "python",
   "pygments_lexer": "ipython3",
   "version": "3.6.8"
  }
 },
 "nbformat": 4,
 "nbformat_minor": 2
}
