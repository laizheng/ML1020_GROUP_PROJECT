{
 "cells": [
  {
   "cell_type": "code",
   "execution_count": 1,
   "metadata": {},
   "outputs": [],
   "source": [
    "import pandas as pd"
   ]
  },
  {
   "cell_type": "code",
   "execution_count": 2,
   "metadata": {},
   "outputs": [],
   "source": [
    "df = pd.read_csv('~/Desktop/driver.project/data/driver_imgs_list.csv')"
   ]
  },
  {
   "cell_type": "code",
   "execution_count": 3,
   "metadata": {},
   "outputs": [],
   "source": [
    "df[\"target\"] = df[\"subject\"] + df[\"classname\"]"
   ]
  },
  {
   "cell_type": "code",
   "execution_count": 4,
   "metadata": {},
   "outputs": [],
   "source": [
    "#df[['img', 'target', 'subject', 'classname']]\n",
    "df = df[['img', 'target']]"
   ]
  },
  {
   "cell_type": "code",
   "execution_count": 5,
   "metadata": {},
   "outputs": [
    {
     "data": {
      "text/html": [
       "<div>\n",
       "<style scoped>\n",
       "    .dataframe tbody tr th:only-of-type {\n",
       "        vertical-align: middle;\n",
       "    }\n",
       "\n",
       "    .dataframe tbody tr th {\n",
       "        vertical-align: top;\n",
       "    }\n",
       "\n",
       "    .dataframe thead th {\n",
       "        text-align: right;\n",
       "    }\n",
       "</style>\n",
       "<table border=\"1\" class=\"dataframe\">\n",
       "  <thead>\n",
       "    <tr style=\"text-align: right;\">\n",
       "      <th></th>\n",
       "      <th>img</th>\n",
       "      <th>target</th>\n",
       "    </tr>\n",
       "  </thead>\n",
       "  <tbody>\n",
       "    <tr>\n",
       "      <th>0</th>\n",
       "      <td>img_44733.jpg</td>\n",
       "      <td>p002c0</td>\n",
       "    </tr>\n",
       "  </tbody>\n",
       "</table>\n",
       "</div>"
      ],
      "text/plain": [
       "             img  target\n",
       "0  img_44733.jpg  p002c0"
      ]
     },
     "execution_count": 5,
     "metadata": {},
     "output_type": "execute_result"
    }
   ],
   "source": [
    "df.head(1)"
   ]
  },
  {
   "cell_type": "code",
   "execution_count": 7,
   "metadata": {},
   "outputs": [],
   "source": [
    "knn = pd.read_csv('~/Desktop/saved_models/nn12_rawpixels_trainset.csv')"
   ]
  },
  {
   "cell_type": "code",
   "execution_count": 8,
   "metadata": {},
   "outputs": [
    {
     "data": {
      "text/html": [
       "<div>\n",
       "<style scoped>\n",
       "    .dataframe tbody tr th:only-of-type {\n",
       "        vertical-align: middle;\n",
       "    }\n",
       "\n",
       "    .dataframe tbody tr th {\n",
       "        vertical-align: top;\n",
       "    }\n",
       "\n",
       "    .dataframe thead th {\n",
       "        text-align: right;\n",
       "    }\n",
       "</style>\n",
       "<table border=\"1\" class=\"dataframe\">\n",
       "  <thead>\n",
       "    <tr style=\"text-align: right;\">\n",
       "      <th></th>\n",
       "      <th>img</th>\n",
       "      <th>nn0</th>\n",
       "      <th>nn1</th>\n",
       "      <th>nn2</th>\n",
       "      <th>nn3</th>\n",
       "      <th>nn4</th>\n",
       "      <th>nn5</th>\n",
       "      <th>nn6</th>\n",
       "      <th>nn7</th>\n",
       "      <th>nn8</th>\n",
       "      <th>nn9</th>\n",
       "      <th>nn10</th>\n",
       "      <th>nn11</th>\n",
       "    </tr>\n",
       "  </thead>\n",
       "  <tbody>\n",
       "    <tr>\n",
       "      <th>0</th>\n",
       "      <td>img_0.jpg</td>\n",
       "      <td>img_0.jpg</td>\n",
       "      <td>img_372.jpg</td>\n",
       "      <td>img_57953.jpg</td>\n",
       "      <td>img_65017.jpg</td>\n",
       "      <td>img_98963.jpg</td>\n",
       "      <td>img_27207.jpg</td>\n",
       "      <td>img_9106.jpg</td>\n",
       "      <td>img_99175.jpg</td>\n",
       "      <td>img_16374.jpg</td>\n",
       "      <td>img_73541.jpg</td>\n",
       "      <td>img_2868.jpg</td>\n",
       "      <td>img_11267.jpg</td>\n",
       "    </tr>\n",
       "  </tbody>\n",
       "</table>\n",
       "</div>"
      ],
      "text/plain": [
       "         img        nn0          nn1            nn2            nn3  \\\n",
       "0  img_0.jpg  img_0.jpg  img_372.jpg  img_57953.jpg  img_65017.jpg   \n",
       "\n",
       "             nn4            nn5           nn6            nn7            nn8  \\\n",
       "0  img_98963.jpg  img_27207.jpg  img_9106.jpg  img_99175.jpg  img_16374.jpg   \n",
       "\n",
       "             nn9          nn10           nn11  \n",
       "0  img_73541.jpg  img_2868.jpg  img_11267.jpg  "
      ]
     },
     "execution_count": 8,
     "metadata": {},
     "output_type": "execute_result"
    }
   ],
   "source": [
    "knn.head(1)"
   ]
  },
  {
   "cell_type": "markdown",
   "metadata": {},
   "source": [
    "### Check whether 1st neighbour (nn0) is the original image, the answer is 'Yes', so we discard nn0."
   ]
  },
  {
   "cell_type": "code",
   "execution_count": 9,
   "metadata": {},
   "outputs": [],
   "source": [
    "knn_nn0 = knn.iloc[:, 0:2]"
   ]
  },
  {
   "cell_type": "code",
   "execution_count": 10,
   "metadata": {},
   "outputs": [
    {
     "data": {
      "text/html": [
       "<div>\n",
       "<style scoped>\n",
       "    .dataframe tbody tr th:only-of-type {\n",
       "        vertical-align: middle;\n",
       "    }\n",
       "\n",
       "    .dataframe tbody tr th {\n",
       "        vertical-align: top;\n",
       "    }\n",
       "\n",
       "    .dataframe thead th {\n",
       "        text-align: right;\n",
       "    }\n",
       "</style>\n",
       "<table border=\"1\" class=\"dataframe\">\n",
       "  <thead>\n",
       "    <tr style=\"text-align: right;\">\n",
       "      <th></th>\n",
       "      <th>img</th>\n",
       "      <th>nn0</th>\n",
       "    </tr>\n",
       "  </thead>\n",
       "  <tbody>\n",
       "    <tr>\n",
       "      <th>0</th>\n",
       "      <td>img_0.jpg</td>\n",
       "      <td>img_0.jpg</td>\n",
       "    </tr>\n",
       "  </tbody>\n",
       "</table>\n",
       "</div>"
      ],
      "text/plain": [
       "         img        nn0\n",
       "0  img_0.jpg  img_0.jpg"
      ]
     },
     "execution_count": 10,
     "metadata": {},
     "output_type": "execute_result"
    }
   ],
   "source": [
    "knn_nn0.head(1)"
   ]
  },
  {
   "cell_type": "code",
   "execution_count": 11,
   "metadata": {},
   "outputs": [
    {
     "data": {
      "text/plain": [
       "(22424, 13)"
      ]
     },
     "execution_count": 11,
     "metadata": {},
     "output_type": "execute_result"
    }
   ],
   "source": [
    "knn.where(knn.iloc[:, 0] == knn.iloc[:, 1]).shape"
   ]
  },
  {
   "cell_type": "code",
   "execution_count": 12,
   "metadata": {},
   "outputs": [
    {
     "data": {
      "text/plain": [
       "(22424, 13)"
      ]
     },
     "execution_count": 12,
     "metadata": {},
     "output_type": "execute_result"
    }
   ],
   "source": [
    "knn.shape"
   ]
  },
  {
   "cell_type": "code",
   "execution_count": 13,
   "metadata": {},
   "outputs": [],
   "source": [
    "knn = knn.drop('nn0', 1)"
   ]
  },
  {
   "cell_type": "code",
   "execution_count": 14,
   "metadata": {},
   "outputs": [],
   "source": [
    "# discard nn11 \n",
    "knn = knn.drop('nn11', 1)"
   ]
  },
  {
   "cell_type": "markdown",
   "metadata": {},
   "source": [
    "### Merge knn with df"
   ]
  },
  {
   "cell_type": "code",
   "execution_count": 15,
   "metadata": {},
   "outputs": [],
   "source": [
    "knn = pd.merge(knn, df, on = 'img', how = 'left')"
   ]
  },
  {
   "cell_type": "code",
   "execution_count": 16,
   "metadata": {},
   "outputs": [
    {
     "data": {
      "text/html": [
       "<div>\n",
       "<style scoped>\n",
       "    .dataframe tbody tr th:only-of-type {\n",
       "        vertical-align: middle;\n",
       "    }\n",
       "\n",
       "    .dataframe tbody tr th {\n",
       "        vertical-align: top;\n",
       "    }\n",
       "\n",
       "    .dataframe thead th {\n",
       "        text-align: right;\n",
       "    }\n",
       "</style>\n",
       "<table border=\"1\" class=\"dataframe\">\n",
       "  <thead>\n",
       "    <tr style=\"text-align: right;\">\n",
       "      <th></th>\n",
       "      <th>img</th>\n",
       "      <th>nn1</th>\n",
       "      <th>nn2</th>\n",
       "      <th>nn3</th>\n",
       "      <th>nn4</th>\n",
       "      <th>nn5</th>\n",
       "      <th>nn6</th>\n",
       "      <th>nn7</th>\n",
       "      <th>nn8</th>\n",
       "      <th>nn9</th>\n",
       "      <th>nn10</th>\n",
       "      <th>target</th>\n",
       "    </tr>\n",
       "  </thead>\n",
       "  <tbody>\n",
       "    <tr>\n",
       "      <th>0</th>\n",
       "      <td>img_0.jpg</td>\n",
       "      <td>img_372.jpg</td>\n",
       "      <td>img_57953.jpg</td>\n",
       "      <td>img_65017.jpg</td>\n",
       "      <td>img_98963.jpg</td>\n",
       "      <td>img_27207.jpg</td>\n",
       "      <td>img_9106.jpg</td>\n",
       "      <td>img_99175.jpg</td>\n",
       "      <td>img_16374.jpg</td>\n",
       "      <td>img_73541.jpg</td>\n",
       "      <td>img_2868.jpg</td>\n",
       "      <td>p022c6</td>\n",
       "    </tr>\n",
       "  </tbody>\n",
       "</table>\n",
       "</div>"
      ],
      "text/plain": [
       "         img          nn1            nn2            nn3            nn4  \\\n",
       "0  img_0.jpg  img_372.jpg  img_57953.jpg  img_65017.jpg  img_98963.jpg   \n",
       "\n",
       "             nn5           nn6            nn7            nn8            nn9  \\\n",
       "0  img_27207.jpg  img_9106.jpg  img_99175.jpg  img_16374.jpg  img_73541.jpg   \n",
       "\n",
       "           nn10  target  \n",
       "0  img_2868.jpg  p022c6  "
      ]
     },
     "execution_count": 16,
     "metadata": {},
     "output_type": "execute_result"
    }
   ],
   "source": [
    "knn.head(1)"
   ]
  },
  {
   "cell_type": "code",
   "execution_count": 17,
   "metadata": {},
   "outputs": [],
   "source": [
    "knn = pd.merge(knn, df, left_on = 'nn1', right_on = 'img', how = 'left', suffixes=('', '_nn1'))\n",
    "knn = pd.merge(knn, df, left_on = 'nn2', right_on = 'img', how = 'left', suffixes=('', '_nn2'))\n",
    "knn = pd.merge(knn, df, left_on = 'nn3', right_on = 'img', how = 'left', suffixes=('', '_nn3'))\n",
    "knn = pd.merge(knn, df, left_on = 'nn4', right_on = 'img', how = 'left', suffixes=('', '_nn4'))\n",
    "knn = pd.merge(knn, df, left_on = 'nn5', right_on = 'img', how = 'left', suffixes=('', '_nn5'))\n",
    "knn = pd.merge(knn, df, left_on = 'nn6', right_on = 'img', how = 'left', suffixes=('', '_nn6'))\n",
    "knn = pd.merge(knn, df, left_on = 'nn7', right_on = 'img', how = 'left', suffixes=('', '_nn7'))\n",
    "knn = pd.merge(knn, df, left_on = 'nn8', right_on = 'img', how = 'left', suffixes=('', '_nn8'))\n",
    "knn = pd.merge(knn, df, left_on = 'nn9', right_on = 'img', how = 'left', suffixes=('', '_nn9'))\n",
    "knn = pd.merge(knn, df, left_on = 'nn10', right_on = 'img', how = 'left', suffixes=('', '_nn10'))"
   ]
  },
  {
   "cell_type": "code",
   "execution_count": 18,
   "metadata": {},
   "outputs": [
    {
     "data": {
      "text/html": [
       "<div>\n",
       "<style scoped>\n",
       "    .dataframe tbody tr th:only-of-type {\n",
       "        vertical-align: middle;\n",
       "    }\n",
       "\n",
       "    .dataframe tbody tr th {\n",
       "        vertical-align: top;\n",
       "    }\n",
       "\n",
       "    .dataframe thead th {\n",
       "        text-align: right;\n",
       "    }\n",
       "</style>\n",
       "<table border=\"1\" class=\"dataframe\">\n",
       "  <thead>\n",
       "    <tr style=\"text-align: right;\">\n",
       "      <th></th>\n",
       "      <th>img</th>\n",
       "      <th>nn1</th>\n",
       "      <th>nn2</th>\n",
       "      <th>nn3</th>\n",
       "      <th>nn4</th>\n",
       "      <th>nn5</th>\n",
       "      <th>nn6</th>\n",
       "      <th>nn7</th>\n",
       "      <th>nn8</th>\n",
       "      <th>nn9</th>\n",
       "      <th>...</th>\n",
       "      <th>img_nn6</th>\n",
       "      <th>target_nn6</th>\n",
       "      <th>img_nn7</th>\n",
       "      <th>target_nn7</th>\n",
       "      <th>img_nn8</th>\n",
       "      <th>target_nn8</th>\n",
       "      <th>img_nn9</th>\n",
       "      <th>target_nn9</th>\n",
       "      <th>img_nn10</th>\n",
       "      <th>target_nn10</th>\n",
       "    </tr>\n",
       "  </thead>\n",
       "  <tbody>\n",
       "    <tr>\n",
       "      <th>0</th>\n",
       "      <td>img_0.jpg</td>\n",
       "      <td>img_372.jpg</td>\n",
       "      <td>img_57953.jpg</td>\n",
       "      <td>img_65017.jpg</td>\n",
       "      <td>img_98963.jpg</td>\n",
       "      <td>img_27207.jpg</td>\n",
       "      <td>img_9106.jpg</td>\n",
       "      <td>img_99175.jpg</td>\n",
       "      <td>img_16374.jpg</td>\n",
       "      <td>img_73541.jpg</td>\n",
       "      <td>...</td>\n",
       "      <td>img_9106.jpg</td>\n",
       "      <td>p022c6</td>\n",
       "      <td>img_99175.jpg</td>\n",
       "      <td>p022c6</td>\n",
       "      <td>img_16374.jpg</td>\n",
       "      <td>p022c6</td>\n",
       "      <td>img_73541.jpg</td>\n",
       "      <td>p022c6</td>\n",
       "      <td>img_2868.jpg</td>\n",
       "      <td>p022c6</td>\n",
       "    </tr>\n",
       "    <tr>\n",
       "      <th>1</th>\n",
       "      <td>img_10000.jpg</td>\n",
       "      <td>img_98614.jpg</td>\n",
       "      <td>img_33033.jpg</td>\n",
       "      <td>img_29521.jpg</td>\n",
       "      <td>img_18372.jpg</td>\n",
       "      <td>img_88035.jpg</td>\n",
       "      <td>img_100993.jpg</td>\n",
       "      <td>img_48785.jpg</td>\n",
       "      <td>img_99346.jpg</td>\n",
       "      <td>img_90724.jpg</td>\n",
       "      <td>...</td>\n",
       "      <td>img_100993.jpg</td>\n",
       "      <td>p035c5</td>\n",
       "      <td>img_48785.jpg</td>\n",
       "      <td>p035c5</td>\n",
       "      <td>img_99346.jpg</td>\n",
       "      <td>p035c5</td>\n",
       "      <td>img_90724.jpg</td>\n",
       "      <td>p035c5</td>\n",
       "      <td>img_4242.jpg</td>\n",
       "      <td>p035c5</td>\n",
       "    </tr>\n",
       "    <tr>\n",
       "      <th>2</th>\n",
       "      <td>img_100006.jpg</td>\n",
       "      <td>img_1879.jpg</td>\n",
       "      <td>img_1495.jpg</td>\n",
       "      <td>img_21703.jpg</td>\n",
       "      <td>img_29523.jpg</td>\n",
       "      <td>img_54480.jpg</td>\n",
       "      <td>img_26054.jpg</td>\n",
       "      <td>img_39363.jpg</td>\n",
       "      <td>img_26488.jpg</td>\n",
       "      <td>img_99754.jpg</td>\n",
       "      <td>...</td>\n",
       "      <td>img_26054.jpg</td>\n",
       "      <td>p064c3</td>\n",
       "      <td>img_39363.jpg</td>\n",
       "      <td>p064c3</td>\n",
       "      <td>img_26488.jpg</td>\n",
       "      <td>p064c3</td>\n",
       "      <td>img_99754.jpg</td>\n",
       "      <td>p064c3</td>\n",
       "      <td>img_3384.jpg</td>\n",
       "      <td>p064c3</td>\n",
       "    </tr>\n",
       "  </tbody>\n",
       "</table>\n",
       "<p>3 rows × 32 columns</p>\n",
       "</div>"
      ],
      "text/plain": [
       "              img            nn1            nn2            nn3            nn4  \\\n",
       "0       img_0.jpg    img_372.jpg  img_57953.jpg  img_65017.jpg  img_98963.jpg   \n",
       "1   img_10000.jpg  img_98614.jpg  img_33033.jpg  img_29521.jpg  img_18372.jpg   \n",
       "2  img_100006.jpg   img_1879.jpg   img_1495.jpg  img_21703.jpg  img_29523.jpg   \n",
       "\n",
       "             nn5             nn6            nn7            nn8            nn9  \\\n",
       "0  img_27207.jpg    img_9106.jpg  img_99175.jpg  img_16374.jpg  img_73541.jpg   \n",
       "1  img_88035.jpg  img_100993.jpg  img_48785.jpg  img_99346.jpg  img_90724.jpg   \n",
       "2  img_54480.jpg   img_26054.jpg  img_39363.jpg  img_26488.jpg  img_99754.jpg   \n",
       "\n",
       "   ...         img_nn6 target_nn6        img_nn7 target_nn7        img_nn8  \\\n",
       "0  ...    img_9106.jpg     p022c6  img_99175.jpg     p022c6  img_16374.jpg   \n",
       "1  ...  img_100993.jpg     p035c5  img_48785.jpg     p035c5  img_99346.jpg   \n",
       "2  ...   img_26054.jpg     p064c3  img_39363.jpg     p064c3  img_26488.jpg   \n",
       "\n",
       "  target_nn8        img_nn9 target_nn9      img_nn10 target_nn10  \n",
       "0     p022c6  img_73541.jpg     p022c6  img_2868.jpg      p022c6  \n",
       "1     p035c5  img_90724.jpg     p035c5  img_4242.jpg      p035c5  \n",
       "2     p064c3  img_99754.jpg     p064c3  img_3384.jpg      p064c3  \n",
       "\n",
       "[3 rows x 32 columns]"
      ]
     },
     "execution_count": 18,
     "metadata": {},
     "output_type": "execute_result"
    }
   ],
   "source": [
    "knn.head(3)"
   ]
  },
  {
   "cell_type": "code",
   "execution_count": 19,
   "metadata": {},
   "outputs": [],
   "source": [
    "knn = knn.drop(['img_nn1', 'img_nn2', 'img_nn3','img_nn4','img_nn5',\n",
    "          'img_nn6','img_nn7','img_nn8', 'img_nn9', 'img_nn10'], axis=1)"
   ]
  },
  {
   "cell_type": "code",
   "execution_count": 20,
   "metadata": {},
   "outputs": [
    {
     "data": {
      "text/plain": [
       "Index(['img', 'nn1', 'nn2', 'nn3', 'nn4', 'nn5', 'nn6', 'nn7', 'nn8', 'nn9',\n",
       "       'nn10', 'target', 'target_nn1', 'target_nn2', 'target_nn3',\n",
       "       'target_nn4', 'target_nn5', 'target_nn6', 'target_nn7', 'target_nn8',\n",
       "       'target_nn9', 'target_nn10'],\n",
       "      dtype='object')"
      ]
     },
     "execution_count": 20,
     "metadata": {},
     "output_type": "execute_result"
    }
   ],
   "source": [
    "knn.columns"
   ]
  },
  {
   "cell_type": "code",
   "execution_count": 21,
   "metadata": {},
   "outputs": [],
   "source": [
    "acc_n1 = knn.where(knn[\"target_nn1\"] == knn[\"target\"]).notnull().sum(axis=0)[0]\n",
    "acc_n2 = knn.where(knn[\"target_nn2\"] == knn[\"target\"]).notnull().sum(axis=0)[0]\n",
    "acc_n3 = knn.where(knn[\"target_nn3\"] == knn[\"target\"]).notnull().sum(axis=0)[0]\n",
    "acc_n4 = knn.where(knn[\"target_nn4\"] == knn[\"target\"]).notnull().sum(axis=0)[0]\n",
    "acc_n5 = knn.where(knn[\"target_nn5\"] == knn[\"target\"]).notnull().sum(axis=0)[0]\n",
    "acc_n6 = knn.where(knn[\"target_nn6\"] == knn[\"target\"]).notnull().sum(axis=0)[0]\n",
    "acc_n7 = knn.where(knn[\"target_nn7\"] == knn[\"target\"]).notnull().sum(axis=0)[0]\n",
    "acc_n8 = knn.where(knn[\"target_nn8\"] == knn[\"target\"]).notnull().sum(axis=0)[0]\n",
    "acc_n9 = knn.where(knn[\"target_nn9\"] == knn[\"target\"]).notnull().sum(axis=0)[0]\n",
    "acc_n10 = knn.where(knn[\"target_nn10\"] == knn[\"target\"]).notnull().sum(axis=0)[0]"
   ]
  },
  {
   "cell_type": "code",
   "execution_count": 22,
   "metadata": {},
   "outputs": [],
   "source": [
    "acc = { 'neighbour': range(1,11),\n",
    "       'pred_correct':[acc_n1, acc_n2,acc_n3, acc_n4, acc_n5, acc_n6, acc_n7, acc_n8, acc_n9, acc_n10]}\n",
    "result = pd.DataFrame(data=acc)\n",
    "result[\"accuracy\"] = result.pred_correct / len(knn.index)"
   ]
  },
  {
   "cell_type": "code",
   "execution_count": 23,
   "metadata": {},
   "outputs": [
    {
     "data": {
      "text/html": [
       "<div>\n",
       "<style scoped>\n",
       "    .dataframe tbody tr th:only-of-type {\n",
       "        vertical-align: middle;\n",
       "    }\n",
       "\n",
       "    .dataframe tbody tr th {\n",
       "        vertical-align: top;\n",
       "    }\n",
       "\n",
       "    .dataframe thead th {\n",
       "        text-align: right;\n",
       "    }\n",
       "</style>\n",
       "<table border=\"1\" class=\"dataframe\">\n",
       "  <thead>\n",
       "    <tr style=\"text-align: right;\">\n",
       "      <th></th>\n",
       "      <th>neighbour</th>\n",
       "      <th>pred_correct</th>\n",
       "      <th>accuracy</th>\n",
       "    </tr>\n",
       "  </thead>\n",
       "  <tbody>\n",
       "    <tr>\n",
       "      <th>0</th>\n",
       "      <td>1</td>\n",
       "      <td>22354</td>\n",
       "      <td>0.996878</td>\n",
       "    </tr>\n",
       "    <tr>\n",
       "      <th>1</th>\n",
       "      <td>2</td>\n",
       "      <td>22270</td>\n",
       "      <td>0.993132</td>\n",
       "    </tr>\n",
       "    <tr>\n",
       "      <th>2</th>\n",
       "      <td>3</td>\n",
       "      <td>22177</td>\n",
       "      <td>0.988985</td>\n",
       "    </tr>\n",
       "    <tr>\n",
       "      <th>3</th>\n",
       "      <td>4</td>\n",
       "      <td>22108</td>\n",
       "      <td>0.985908</td>\n",
       "    </tr>\n",
       "    <tr>\n",
       "      <th>4</th>\n",
       "      <td>5</td>\n",
       "      <td>22009</td>\n",
       "      <td>0.981493</td>\n",
       "    </tr>\n",
       "    <tr>\n",
       "      <th>5</th>\n",
       "      <td>6</td>\n",
       "      <td>21910</td>\n",
       "      <td>0.977078</td>\n",
       "    </tr>\n",
       "    <tr>\n",
       "      <th>6</th>\n",
       "      <td>7</td>\n",
       "      <td>21766</td>\n",
       "      <td>0.970656</td>\n",
       "    </tr>\n",
       "    <tr>\n",
       "      <th>7</th>\n",
       "      <td>8</td>\n",
       "      <td>21677</td>\n",
       "      <td>0.966687</td>\n",
       "    </tr>\n",
       "    <tr>\n",
       "      <th>8</th>\n",
       "      <td>9</td>\n",
       "      <td>21591</td>\n",
       "      <td>0.962852</td>\n",
       "    </tr>\n",
       "    <tr>\n",
       "      <th>9</th>\n",
       "      <td>10</td>\n",
       "      <td>21498</td>\n",
       "      <td>0.958705</td>\n",
       "    </tr>\n",
       "  </tbody>\n",
       "</table>\n",
       "</div>"
      ],
      "text/plain": [
       "   neighbour  pred_correct  accuracy\n",
       "0          1         22354  0.996878\n",
       "1          2         22270  0.993132\n",
       "2          3         22177  0.988985\n",
       "3          4         22108  0.985908\n",
       "4          5         22009  0.981493\n",
       "5          6         21910  0.977078\n",
       "6          7         21766  0.970656\n",
       "7          8         21677  0.966687\n",
       "8          9         21591  0.962852\n",
       "9         10         21498  0.958705"
      ]
     },
     "execution_count": 23,
     "metadata": {},
     "output_type": "execute_result"
    }
   ],
   "source": [
    "result"
   ]
  },
  {
   "cell_type": "markdown",
   "metadata": {},
   "source": [
    "### Predicted correctly - first 2, 4, 6, 8, 10 neighbours"
   ]
  },
  {
   "cell_type": "code",
   "execution_count": 52,
   "metadata": {},
   "outputs": [],
   "source": [
    "acc_first2_correct = (acc_n1 + acc_n2)\n",
    "acc_first4_correct = (acc_n1 + acc_n2 + acc_n3 + acc_n4)\n",
    "acc_first6_correct = (acc_n1 + acc_n2 + acc_n3 + acc_n4 + acc_n5 + acc_n6)\n",
    "acc_first8_correct = (acc_n1 + acc_n2 + acc_n3 + acc_n4 + acc_n5 + acc_n6 + acc_n7 + acc_n8)\n",
    "acc_first10_correct = (acc_n1 + acc_n2 + acc_n3 + acc_n4 + acc_n5 + acc_n6 + acc_n7 + acc_n8 + acc_n9 + acc_n10) "
   ]
  },
  {
   "cell_type": "code",
   "execution_count": 53,
   "metadata": {},
   "outputs": [],
   "source": [
    "acc_first2 = acc_first2_correct/ (len(knn.index)*2)\n",
    "acc_first4 = acc_first4_correct / (len(knn.index)*4)\n",
    "acc_first6 = acc_first6_correct / (len(knn.index)*6)\n",
    "acc_first8 = acc_first8_correct / (len(knn.index)*8)\n",
    "acc_first10 = acc_first10_correct / (len(knn.index)*10)"
   ]
  },
  {
   "cell_type": "code",
   "execution_count": 60,
   "metadata": {},
   "outputs": [],
   "source": [
    "acc2 = { 'neighbour': [\"first2\", \"first4\", \"first6\", \"first8\", \"first10\"],\n",
    "       'pred_correct':[acc_first2_correct, acc_first4_correct, acc_first6_correct, acc_first8_correct, acc_first10_correct],\n",
    "       'accuracy':[acc_first2, acc_first4, acc_first6, acc_first8, acc_first10]}\n",
    "\n",
    "result2 = pd.DataFrame(data = acc2)\n"
   ]
  },
  {
   "cell_type": "code",
   "execution_count": 61,
   "metadata": {},
   "outputs": [
    {
     "data": {
      "text/html": [
       "<div>\n",
       "<style scoped>\n",
       "    .dataframe tbody tr th:only-of-type {\n",
       "        vertical-align: middle;\n",
       "    }\n",
       "\n",
       "    .dataframe tbody tr th {\n",
       "        vertical-align: top;\n",
       "    }\n",
       "\n",
       "    .dataframe thead th {\n",
       "        text-align: right;\n",
       "    }\n",
       "</style>\n",
       "<table border=\"1\" class=\"dataframe\">\n",
       "  <thead>\n",
       "    <tr style=\"text-align: right;\">\n",
       "      <th></th>\n",
       "      <th>neighbour</th>\n",
       "      <th>pred_correct</th>\n",
       "      <th>accuracy</th>\n",
       "    </tr>\n",
       "  </thead>\n",
       "  <tbody>\n",
       "    <tr>\n",
       "      <th>0</th>\n",
       "      <td>first2</td>\n",
       "      <td>44624</td>\n",
       "      <td>0.995005</td>\n",
       "    </tr>\n",
       "    <tr>\n",
       "      <th>1</th>\n",
       "      <td>first4</td>\n",
       "      <td>88909</td>\n",
       "      <td>0.991226</td>\n",
       "    </tr>\n",
       "    <tr>\n",
       "      <th>2</th>\n",
       "      <td>first6</td>\n",
       "      <td>132828</td>\n",
       "      <td>0.987246</td>\n",
       "    </tr>\n",
       "    <tr>\n",
       "      <th>3</th>\n",
       "      <td>first8</td>\n",
       "      <td>176271</td>\n",
       "      <td>0.982602</td>\n",
       "    </tr>\n",
       "    <tr>\n",
       "      <th>4</th>\n",
       "      <td>first10</td>\n",
       "      <td>219360</td>\n",
       "      <td>0.978238</td>\n",
       "    </tr>\n",
       "  </tbody>\n",
       "</table>\n",
       "</div>"
      ],
      "text/plain": [
       "  neighbour  pred_correct  accuracy\n",
       "0    first2         44624  0.995005\n",
       "1    first4         88909  0.991226\n",
       "2    first6        132828  0.987246\n",
       "3    first8        176271  0.982602\n",
       "4   first10        219360  0.978238"
      ]
     },
     "execution_count": 61,
     "metadata": {},
     "output_type": "execute_result"
    }
   ],
   "source": [
    "result2\n"
   ]
  },
  {
   "cell_type": "code",
   "execution_count": null,
   "metadata": {},
   "outputs": [],
   "source": []
  }
 ],
 "metadata": {
  "kernelspec": {
   "display_name": "Python 3",
   "language": "python",
   "name": "python3"
  },
  "language_info": {
   "codemirror_mode": {
    "name": "ipython",
    "version": 3
   },
   "file_extension": ".py",
   "mimetype": "text/x-python",
   "name": "python",
   "nbconvert_exporter": "python",
   "pygments_lexer": "ipython3",
   "version": "3.6.8"
  }
 },
 "nbformat": 4,
 "nbformat_minor": 2
}
